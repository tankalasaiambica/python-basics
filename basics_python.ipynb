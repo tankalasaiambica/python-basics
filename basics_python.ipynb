{
 "cells": [
  {
   "cell_type": "markdown",
   "metadata": {},
   "source": [
    "data types in python"
   ]
  },
  {
   "cell_type": "code",
   "execution_count": 1,
   "metadata": {},
   "outputs": [
    {
     "name": "stdout",
     "output_type": "stream",
     "text": [
      "5 is of type  <class 'int'>\n",
      "2.0 is of type  <class 'float'>\n",
      "(1+2j) is of type  <class 'complex'>\n",
      "dfghsaiklkjh is a <class 'str'>\n",
      "<class 'bool'>\n",
      "<class 'bool'>\n"
     ]
    }
   ],
   "source": [
    "a = 5\n",
    "print(a,\"is of type \", type(a))\n",
    "a = 2.0\n",
    "print(a,\"is of type \", type(a))\n",
    "a = 1+2j\n",
    "print(a,\"is of type \", type(a))\n",
    "s =\"dfghsaiklkjh\"\n",
    "print(s,\"is a\",type(s))\n",
    "print(type(True))\n",
    "print(type(False))"
   ]
  },
  {
   "cell_type": "markdown",
   "metadata": {},
   "source": [
    "different Arithmetic Operations"
   ]
  },
  {
   "cell_type": "code",
   "execution_count": 2,
   "metadata": {},
   "outputs": [
    {
     "name": "stdout",
     "output_type": "stream",
     "text": [
      "Enter First number: 4\n",
      "Enter Second number 2\n",
      "Sum of  4 and 2 is : 6\n",
      "Difference of  4 and 2 is : 2\n",
      "Product of 4 and 2 is : 8\n",
      "Division of  4 and 2 is : 2.0\n",
      "Floor Division of  4 and 2 is : 2\n",
      "Exponent of  4 and 2 is : 16\n",
      "Modulus of  4 and 2 is : 0\n"
     ]
    }
   ],
   "source": [
    "num1 = int(input('Enter First number: '))\n",
    "num2 = int(input('Enter Second number '))\n",
    "add = num1 + num2\n",
    "dif = num1 - num2\n",
    "mul = num1 * num2\n",
    "div = num1 / num2\n",
    "floor_div = num1 // num2\n",
    "power = num1 ** num2\n",
    "modulus = num1 % num2\n",
    "print('Sum of ',num1 ,'and' ,num2 ,'is :',add)\n",
    "print('Difference of ',num1 ,'and' ,num2 ,'is :',dif)\n",
    "print('Product of' ,num1 ,'and' ,num2 ,'is :',mul)\n",
    "print('Division of ',num1 ,'and' ,num2 ,'is :',div)\n",
    "print('Floor Division of ',num1 ,'and' ,num2 ,'is :',floor_div)\n",
    "print('Exponent of ',num1 ,'and' ,num2 ,'is :',power)\n",
    "print('Modulus of ',num1 ,'and' ,num2 ,'is :',modulus)"
   ]
  },
  {
   "cell_type": "markdown",
   "metadata": {},
   "source": [
    "implementing pow(x, n)"
   ]
  },
  {
   "cell_type": "code",
   "execution_count": 8,
   "metadata": {},
   "outputs": [
    {
     "name": "stdout",
     "output_type": "stream",
     "text": [
      "8\n"
     ]
    }
   ],
   "source": [
    "def power(x, y): \n",
    "  \n",
    "    if (y == 0): return 1\n",
    "    elif (int(y % 2) == 0): \n",
    "        return (power(x, int(y / 2)) *\n",
    "               power(x, int(y / 2))) \n",
    "    else: \n",
    "        return (x * power(x, int(y / 2)) *\n",
    "                   power(x, int(y / 2))) \n",
    "    \n",
    "x = 2\n",
    "y = 3\n",
    "print(power(x,y))"
   ]
  },
  {
   "cell_type": "markdown",
   "metadata": {},
   "source": [
    "find largest of three numbers."
   ]
  },
  {
   "cell_type": "code",
   "execution_count": 4,
   "metadata": {},
   "outputs": [
    {
     "name": "stdout",
     "output_type": "stream",
     "text": [
      "The largest number between 10 , 14 and 12 is 14\n"
     ]
    }
   ],
   "source": [
    "num1 = 10\n",
    "num2 = 14\n",
    "num3 = 12\n",
    "# uncomment below line to give user input\n",
    "# num1,num2,num3 = input().split()\n",
    "\n",
    "if (num1 >= num2) and (num1 >= num3):\n",
    "    largest = num1\n",
    "elif (num2 >= num1) and (num2 >= num3):\n",
    "    largest = num2\n",
    "else:\n",
    "    largest = num3\n",
    "\n",
    "print(\"The largest number between\",num1,\",\",num2,\"and\",num3,\"is\",largest)"
   ]
  },
  {
   "cell_type": "markdown",
   "metadata": {},
   "source": [
    "prints prime numbers less than n value"
   ]
  },
  {
   "cell_type": "code",
   "execution_count": 5,
   "metadata": {},
   "outputs": [
    {
     "name": "stdout",
     "output_type": "stream",
     "text": [
      "Enter lower range: 20\n",
      "Enter upper range: 40\n",
      "23\n",
      "29\n",
      "31\n",
      "37\n"
     ]
    }
   ],
   "source": [
    "lower = int(input(\"Enter lower range: \"))  \n",
    "upper = int(input(\"Enter upper range: \"))  \n",
    "  \n",
    "for num in range(lower,upper + 1):  \n",
    "   if num > 1:  \n",
    "       for i in range(2,num):  \n",
    "           if (num % i) == 0:  \n",
    "               break  \n",
    "       else:  \n",
    "           print(num)\n"
   ]
  },
  {
   "cell_type": "markdown",
   "metadata": {},
   "source": [
    "Pythagorean Theorem"
   ]
  },
  {
   "cell_type": "code",
   "execution_count": 6,
   "metadata": {},
   "outputs": [
    {
     "name": "stdout",
     "output_type": "stream",
     "text": [
      "Enter a number: 5\n",
      "Enter a number: 4\n",
      "Enter a number: 3\n",
      "Right angle triangle\n"
     ]
    }
   ],
   "source": [
    "# driver code  \n",
    "a = int(input(\"Enter a number: \"))\n",
    "b = int(input(\"Enter a number: \"))\n",
    "c = int(input(\"Enter a number: \"))\n",
    "if (a*a == (b*b)+(c*c)) or (b*b == (a*a)+(c*c)) or (c*c == (a*a)+(b*b)):\n",
    "    print(\"Right angle triangle\")  \n",
    "else: \n",
    "    print(\"Not a right angle triangle\") "
   ]
  },
  {
   "cell_type": "markdown",
   "metadata": {},
   "source": [
    "convert an integer to a roman numeral"
   ]
  },
  {
   "cell_type": "code",
   "execution_count": 7,
   "metadata": {},
   "outputs": [
    {
     "data": {
      "text/plain": [
       "'XXXV'"
      ]
     },
     "execution_count": 7,
     "metadata": {},
     "output_type": "execute_result"
    }
   ],
   "source": [
    "num_map = [(1000, 'M'), (900, 'CM'), (500, 'D'), (400, 'CD'), (100, 'C'), (90, 'XC'),\n",
    "           (50, 'L'), (40, 'XL'), (10, 'X'), (9, 'IX'), (5, 'V'), (4, 'IV'), (1, 'I')]\n",
    "\n",
    "\n",
    "def num2roman(num):\n",
    "\n",
    "    roman = ''\n",
    "\n",
    "    while num > 0:\n",
    "        for i, r in num_map:\n",
    "            while num >= i:\n",
    "                roman += r\n",
    "                num -= i\n",
    "\n",
    "    return roman\n",
    "\n",
    "num2roman(35)"
   ]
  },
  {
   "cell_type": "code",
   "execution_count": null,
   "metadata": {},
   "outputs": [],
   "source": []
  }
 ],
 "metadata": {
  "kernelspec": {
   "display_name": "Python 3",
   "language": "python",
   "name": "python3"
  },
  "language_info": {
   "codemirror_mode": {
    "name": "ipython",
    "version": 3
   },
   "file_extension": ".py",
   "mimetype": "text/x-python",
   "name": "python",
   "nbconvert_exporter": "python",
   "pygments_lexer": "ipython3",
   "version": "3.8.10"
  }
 },
 "nbformat": 4,
 "nbformat_minor": 4
}
