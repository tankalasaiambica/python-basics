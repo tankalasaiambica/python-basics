{
 "cells": [
  {
   "cell_type": "markdown",
   "metadata": {},
   "source": [
    "print the current date"
   ]
  },
  {
   "cell_type": "code",
   "execution_count": 3,
   "metadata": {},
   "outputs": [
    {
     "name": "stdout",
     "output_type": "stream",
     "text": [
      "Current date and time:  2021-02-14 10:50:11.839505\n",
      "Current year:  2021\n",
      "Month of year:  February\n",
      "Week number of the year:  06\n",
      "Weekday of the week:  0\n",
      "Day of year:  045\n",
      "Day of the month :  14\n",
      "Day of week:  Sunday\n"
     ]
    }
   ],
   "source": [
    "import time\n",
    "import datetime\n",
    "print(\"Current date and time: \" , datetime.datetime.now())\n",
    "print(\"Current year: \", datetime.date.today().strftime(\"%Y\"))\n",
    "print(\"Month of year: \", datetime.date.today().strftime(\"%B\"))\n",
    "print(\"Week number of the year: \", datetime.date.today().strftime(\"%W\"))\n",
    "print(\"Weekday of the week: \", datetime.date.today().strftime(\"%w\"))\n",
    "print(\"Day of year: \", datetime.date.today().strftime(\"%j\"))\n",
    "print(\"Day of the month : \", datetime.date.today().strftime(\"%d\"))\n",
    "print(\"Day of week: \", datetime.date.today().strftime(\"%A\"))\n"
   ]
  },
  {
   "cell_type": "markdown",
   "metadata": {},
   "source": [
    "convert temperatures to and from Celsius, Fahrenheit"
   ]
  },
  {
   "cell_type": "markdown",
   "metadata": {},
   "source": [
    "temp = input(\"Input the  temperature you like to convert? (e.g., 45F, 102C etc.) : \")\n",
    "degree = int(temp[:-1])\n",
    "i_convention = temp[-1]\n",
    "\n",
    "if i_convention.upper() == \"C\":\n",
    "    result = int(round((9 * degree) / 5 + 32))\n",
    "    o_convention = \"Fahrenheit\"\n",
    "elif i_convention.upper() == \"F\":\n",
    "    result = int(round((degree - 32) * 5 / 9))\n",
    "    o_convention = \"Celsius\"\n",
    "else:\n",
    "    print(\"Input proper convention.\")\n",
    "    quit()\n",
    "print(\"The temperature in\", o_convention, \"is\", result, \"degrees.\")"
   ]
  },
  {
   "cell_type": "markdown",
   "metadata": {},
   "source": [
    " pattern (Pyramid)"
   ]
  },
  {
   "cell_type": "code",
   "execution_count": 4,
   "metadata": {},
   "outputs": [
    {
     "name": "stdout",
     "output_type": "stream",
     "text": [
      "Program to print star pattern: \n",
      "\n",
      "Enter maximum stars you want display on a single line5\n",
      "* \n",
      "* * \n",
      "* * * \n",
      "* * * * \n",
      "* * * * * \n",
      "* * * * \n",
      "* * * \n",
      "* * \n",
      "* \n",
      "\n"
     ]
    }
   ],
   "source": [
    "print(\"Program to print star pattern: \\n\");\n",
    "rows = input(\"Enter maximum stars you want display on a single line\")\n",
    "rows = int (rows)\n",
    "for i in range (0, rows):\n",
    "    for j in range(0, i + 1):\n",
    "        print(\"* \", end='')\n",
    "    print(\"\\r\")\n",
    "for i in range (rows, 0, -1):\n",
    "    for j in range(0, i -1):\n",
    "        print(\"* \", end='')\n",
    "    print(\"\\r\")"
   ]
  },
  {
   "cell_type": "markdown",
   "metadata": {},
   "source": [
    "factorial of a number using Recursion"
   ]
  },
  {
   "cell_type": "code",
   "execution_count": 5,
   "metadata": {},
   "outputs": [
    {
     "name": "stdout",
     "output_type": "stream",
     "text": [
      "your factorial is 6\n",
      "The factorial of 6 is 720\n"
     ]
    }
   ],
   "source": [
    "# Python program to find the factorial of a number using recursion\n",
    "\n",
    "def factorial(n): \n",
    "    \n",
    "    if (n==1 or n==0):\n",
    "        return 1 \n",
    "    else:\n",
    "       return n * factorial(n - 1)\n",
    "        \n",
    "n = int(input(\"your factorial is \"))\n",
    "print(\"The factorial of\", n, \"is\", factorial(n))"
   ]
  },
  {
   "cell_type": "markdown",
   "metadata": {},
   "source": [
    "if you want to do the same in using import statement you can crete one like that just create the below file code with .py extension note: it should be saved in same folder where you are downloading"
   ]
  },
  {
   "cell_type": "code",
   "execution_count": 6,
   "metadata": {},
   "outputs": [],
   "source": [
    "#fibonacci.py(file)\n",
    "\n",
    "def Fibonacci(n):\n",
    "   \n",
    "    # Check if input is 0 then it will\n",
    "    # print incorrect input\n",
    "    if n < 0:\n",
    "        print(\"Incorrect input\")\n",
    " \n",
    "    # Check if n is 0\n",
    "    # then it will return 0\n",
    "    elif n == 0:\n",
    "        return 0\n",
    " \n",
    "    # Check if n is 1,2\n",
    "    # it will return 1\n",
    "    elif n == 1 or n == 2:\n",
    "        return 1\n",
    " \n",
    "    else:\n",
    "        return Fibonacci(n-1) + Fibonacci(n-2)"
   ]
  },
  {
   "cell_type": "code",
   "execution_count": 7,
   "metadata": {},
   "outputs": [
    {
     "name": "stdout",
     "output_type": "stream",
     "text": [
      "34\n"
     ]
    }
   ],
   "source": [
    "import fibonacci # you can only import it if you have created the .py python file as above\n",
    "print(fibonacci.Fibonacci(9)) "
   ]
  },
  {
   "cell_type": "markdown",
   "metadata": {},
   "source": [
    "in the same way can create your own .py files and import them in program here is another example"
   ]
  },
  {
   "cell_type": "code",
   "execution_count": 8,
   "metadata": {},
   "outputs": [],
   "source": [
    "# calc.py\n",
    "def add(a, b):\n",
    "   \"\"\"This program adds two\n",
    "   numbers and return the result\"\"\"\n",
    "\n",
    "   result = a + b\n",
    "   return result\n",
    "def sub(a, b):\n",
    "   \"\"\"This program sub two\n",
    "   numbers and return the result\"\"\"\n",
    "\n",
    "   result = a - b\n",
    "   return result\n",
    "\n",
    "def mul(a, b):\n",
    "   \"\"\"This program mul two\n",
    "   numbers and return the result\"\"\"\n",
    "\n",
    "   result = a * b\n",
    "   return result\n",
    "\n",
    "def div(a, b):\n",
    "   \"\"\"This program div two\n",
    "   numbers and return the result\"\"\"\n",
    "\n",
    "   result = a % b\n",
    "   return result\n",
    "\n",
    "def mod(a, b):\n",
    "   \"\"\"This program  mod two\n",
    "   numbers and return the result\"\"\"\n",
    "\n",
    "   result = a / b\n",
    "   return result"
   ]
  },
  {
   "cell_type": "code",
   "execution_count": 9,
   "metadata": {},
   "outputs": [
    {
     "name": "stdout",
     "output_type": "stream",
     "text": [
      "5\n",
      "9\n",
      "15\n",
      "0\n",
      "1.6666666666666667\n"
     ]
    }
   ],
   "source": [
    "from calc import *\n",
    "print(add(2,3))\n",
    "print(sub(12,3))\n",
    "print(mul(5,3))\n",
    "print(div(6,3))\n",
    "print(mod(5,3))"
   ]
  },
  {
   "cell_type": "markdown",
   "metadata": {},
   "source": [
    "contents of the first file should be input and written to the second file"
   ]
  },
  {
   "cell_type": "code",
   "execution_count": 10,
   "metadata": {},
   "outputs": [
    {
     "name": "stdout",
     "output_type": "stream",
     "text": [
      "enter the input filename with extension copyfile.py\n",
      "enter the output filename with extension userfile.py\n"
     ]
    }
   ],
   "source": [
    "# here u need to create a text file with some text in it here i am using \"hi this is python lab progrmming lab\" \n",
    "# this text in file 1 which will be copied in file 2\n",
    "    \n",
    "    \n",
    "#to prompt the user to enter the file1 which is input file\n",
    "file1=input(\"enter the input filename with extension \");\n",
    "\n",
    "# to prompt the user to enter the file2 which is output file\n",
    "file2=input(\"enter the output filename with extension \");\n",
    "\n",
    "#opening the file1 in reading mode\n",
    "f1=open(file1,\"r\");\n",
    "\n",
    "#opening the file2 in output mode\n",
    "f2=open(file2,\"w+\");\n",
    "\n",
    "#reading the content of file1 to content variable\n",
    "content=f1.read();\n",
    "\n",
    "#writing to the value of content variable to file2\n",
    "f2.write(content);\n",
    "\n",
    "#closing the file1 and file2\n",
    "f1.close();\n",
    "f2.close();"
   ]
  },
  {
   "cell_type": "markdown",
   "metadata": {},
   "source": [
    "so here if check file2 it will also contains same text as in file1\n",
    "output:\n",
    "    \n",
    "copyfile.py ----------> hi this is python lab progrmming lab\n",
    "\n",
    "userfile.py ----------->hi this is python lab progrmming lab"
   ]
  },
  {
   "cell_type": "markdown",
   "metadata": {},
   "source": [
    " print all of the unique words in the file in alphabetical order"
   ]
  },
  {
   "cell_type": "code",
   "execution_count": null,
   "metadata": {},
   "outputs": [],
   "source": []
  }
 ],
 "metadata": {
  "kernelspec": {
   "display_name": "Python 3",
   "language": "python",
   "name": "python3"
  },
  "language_info": {
   "codemirror_mode": {
    "name": "ipython",
    "version": 3
   },
   "file_extension": ".py",
   "mimetype": "text/x-python",
   "name": "python",
   "nbconvert_exporter": "python",
   "pygments_lexer": "ipython3",
   "version": "3.8.10"
  }
 },
 "nbformat": 4,
 "nbformat_minor": 4
}
