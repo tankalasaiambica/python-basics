{
  "nbformat": 4,
  "nbformat_minor": 0,
  "metadata": {
    "colab": {
      "name": "login_Register",
      "provenance": [],
      "collapsed_sections": []
    },
    "kernelspec": {
      "name": "python3",
      "display_name": "Python 3"
    },
    "language_info": {
      "name": "python"
    }
  },
  "cells": [
    {
      "cell_type": "code",
      "source": [
        "data = dict() # creating a dict\n",
        "# data1 = dict{}\n",
        "print(data)"
      ],
      "metadata": {
        "colab": {
          "base_uri": "https://localhost:8080/"
        },
        "id": "_aaHEMXxSeKW",
        "outputId": "261fbade-47d4-4fd3-e3d8-036d733da8c1"
      },
      "execution_count": null,
      "outputs": [
        {
          "output_type": "stream",
          "name": "stdout",
          "text": [
            "{}\n"
          ]
        }
      ]
    },
    {
      "cell_type": "code",
      "source": [
        "def choices():\n",
        "\n",
        "    print(\"Please choose what you would like to do.\\n1.signup\\n2.login \\n3.forgotten password \")\n",
        "\n",
        "    choice = int(input())\n",
        "    if choice == 1:\n",
        "       return signup()\n",
        "    elif choice == 2:\n",
        "       return login()\n",
        "    elif choice == 3:\n",
        "       return forgotten()\n",
        "    else:\n",
        "       raise TypeError\n"
      ],
      "metadata": {
        "id": "-iDjZCySVWNX"
      },
      "execution_count": null,
      "outputs": []
    },
    {
      "cell_type": "code",
      "source": [
        "import re\n",
        "# reg expression for email and password\n",
        "regex = '^[a-z0-9]+[\\._]?[a-z0-9]+[@]\\w+[.]\\w{2,3}$'  \n",
        "reg = \"^(?=.*[a-z])(?=.*[A-Z])(?=.*\\d)(?=.*[@$!%*#?&])[A-Za-z\\d@$!#%*?&]{5,16}$\"\n",
        "\n",
        "def check_U(Username): # email checking\n",
        "  if(re.fullmatch(regex, Username)):\n",
        "      return True\n",
        "  else:\n",
        "      print(\"Invalid Email\") \n",
        "def check_P(password): # password checking\n",
        "  if(re.fullmatch(reg, password)):\n",
        "      return True\n",
        "  else:\n",
        "      print(\"Invalid password\")"
      ],
      "metadata": {
        "id": "SgfXfDpj_ysF"
      },
      "execution_count": null,
      "outputs": []
    },
    {
      "cell_type": "code",
      "source": [
        "def signup(): # signing_up  \n",
        "  Username = input(\"enter a valid username :\")\n",
        "  password = input(\"enter a strong password :\")\n",
        "  print(\"please wait checking details ...\")\n",
        "  # print(\"please wait...\")\n",
        "  if((\"Username\" in data.keys()) and (password in data.values())):\n",
        "    print(\" Username exist  please login \")\n",
        "  elif(check_U(Username) and check_P(password)):\n",
        "    data[Username] = password\n",
        "    print(\"sign_in success\")\n",
        "  else:\n",
        "    print(\"sign_up failed\")\n",
        "\n",
        "def login(): # login\n",
        "    Username = input(\"enter a valid username :\")\n",
        "    password = input(\"enter a strong password :\")\n",
        "    if((Username in data.keys()) and (password in data.values())):\n",
        "      print(\" login success\")\n",
        "    elif((Username not in data.keys()) and (password not in data.values())):\n",
        "      print(\"please create a account\")\n",
        "      l = input(\"create account print Y\")\n",
        "      if(l.lower() == \"Y\"):\n",
        "        signup()\n",
        "    elif((Username  in data.keys()) and (password not in data.values())):\n",
        "      print(\"password wrong\")\n",
        "      l = input(\"to get password F\")\n",
        "      if(l.lower() == \"F\"):\n",
        "        print(\"your user name is:\",Username,\"and you password\",data['Username'])\n",
        "    else:\n",
        "      print(\"got some exception\")\n",
        "\n",
        "def forgotten(): # For forgotten password\n",
        "  u = input(\"please enter user name: \")\n",
        "  if(u in data.keys()):\n",
        "    print(\"your user name is:\",u,\"and you password\",data[u])\n",
        "  else:\n",
        "    print(u, \"is not available\")\n"
      ],
      "metadata": {
        "id": "rzKSEtCvCatg"
      },
      "execution_count": null,
      "outputs": []
    },
    {
      "cell_type": "code",
      "source": [
        "choices() # calling choice function"
      ],
      "metadata": {
        "colab": {
          "base_uri": "https://localhost:8080/"
        },
        "id": "VqrR5Sa8WeCv",
        "outputId": "80815030-a78c-4ede-ddcb-48b4ebb62ffd"
      },
      "execution_count": null,
      "outputs": [
        {
          "output_type": "stream",
          "name": "stdout",
          "text": [
            "Please choose what you would like to do.\n",
            "1.signup\n",
            "2.login \n",
            "3.forgotten password \n",
            "3\n",
            "please enter user name: saimbica1999@gmail.com\n",
            "your user name is: saimbica1999@gmail.com and you password Ambica3332@\n"
          ]
        }
      ]
    }
  ]
}